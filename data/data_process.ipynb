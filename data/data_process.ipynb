{
 "cells": [
  {
   "cell_type": "code",
   "execution_count": 1,
   "id": "998d333e",
   "metadata": {
    "ExecuteTime": {
     "end_time": "2022-05-01T00:42:13.653154Z",
     "start_time": "2022-05-01T00:42:12.347630Z"
    }
   },
   "outputs": [],
   "source": [
    "import pathlib\n",
    "import os\n",
    "import numpy as np\n",
    "import pandas as pd\n",
    "import matplotlib as mpl\n",
    "import torch\n",
    "import matplotlib.pyplot as plt\n",
    "import seaborn as sns\n",
    "import warnings; warnings.filterwarnings(action='once')\n",
    "\n",
    "large = 22; med = 16; small = 12\n",
    "params = {'axes.titlesize': large,\n",
    "          'legend.fontsize': med,\n",
    "          'figure.figsize': (16, 10),\n",
    "          'axes.labelsize': med,\n",
    "          'axes.titlesize': med,\n",
    "          'xtick.labelsize': med,\n",
    "          'ytick.labelsize': med,\n",
    "          'figure.titlesize': large}\n",
    "plt.rcParams.update(params)\n",
    "plt.style.use('seaborn-whitegrid')\n",
    "sns.set_style(\"white\")\n",
    "%matplotlib inline"
   ]
  },
  {
   "cell_type": "code",
   "execution_count": null,
   "id": "eb0d5f49",
   "metadata": {
    "ExecuteTime": {
     "end_time": "2022-04-23T02:02:34.647449Z",
     "start_time": "2022-04-23T02:02:29.363981Z"
    }
   },
   "outputs": [],
   "source": [
    "path = \"D:\\\\photon_counting_radar\\\\1M.csv\"\n",
    "with open(path, encoding='utf-8') as f:\n",
    "    data = np.loadtxt(f, delimiter=\",\",skiprows=0)\n",
    "data.shape\n",
    "ans = data.sum(axis=0)\n",
    "np.argmax(ans)\n",
    "x = np.arange(ans.shape[0])\n",
    "plt.stem(x, ans, '-.')"
   ]
  },
  {
   "cell_type": "code",
   "execution_count": 2,
   "id": "b9fef58f",
   "metadata": {
    "ExecuteTime": {
     "end_time": "2022-05-01T00:42:14.482931Z",
     "start_time": "2022-05-01T00:42:14.474933Z"
    }
   },
   "outputs": [],
   "source": [
    "def GenerateDataset(n, path_in, path_out_trainx, path_out_trainy, path_out_testx, path_out_testy):\n",
    "    with open(path_in, encoding='utf-8') as f:\n",
    "        data = np.loadtxt(f, delimiter=\",\",skiprows=0)\n",
    "    \n",
    "    s = data.sum(axis=0)\n",
    "    coor = np.argmax(s)\n",
    "    \n",
    "    ShuffleGenerate(n, data[:5000], path_out_trainx, path_out_trainy, coor)\n",
    "    ShuffleGenerate(n, data[5000:], path_out_testx, path_out_testy, coor)\n",
    "\n",
    "def ShuffleGenerate(n, data, pathx, pathy, coor, l=1000):\n",
    "    shape = data.shape\n",
    "    rand_position = np.random.randint(coor-(l-100), coor-100, size=shape[0] * n * n)\n",
    "    rand_index = np.random.randint(0, shape[0], size=(shape[0] * n * n, n))\n",
    "    out_x = np.zeros((shape[0] * n * n, l * n), dtype=int)\n",
    "    out_y = coor - rand_position\n",
    "    \n",
    "    for i in np.arange(shape[0] * n * n):\n",
    "        out_x[i, :] = np.concatenate([data[j, rand_position[i] : rand_position[i] + l] for j in rand_index[i]], axis=0)\n",
    "    np.savetxt(pathx, out_x, fmt = '%d', delimiter=\",\")\n",
    "    np.savetxt(pathy, out_y, fmt = '%d', delimiter=\",\")"
   ]
  },
  {
   "cell_type": "code",
   "execution_count": 3,
   "id": "d5b1b66e",
   "metadata": {
    "ExecuteTime": {
     "end_time": "2022-05-01T00:44:14.471037Z",
     "start_time": "2022-05-01T00:42:15.322689Z"
    }
   },
   "outputs": [],
   "source": [
    "raw_path = pathlib.Path('D:/photon_counting_radar')\n",
    "dataset_path = pathlib.Path('D:/photon_counting_radar/dataset2')\n",
    "name = \"M.csv\"\n",
    "raw_list = [9]\n",
    "num_list = [5]\n",
    "for j in num_list:\n",
    "    path_temp = dataset_path / (\"num=\" + str(j))\n",
    "    if os.path.exists(path_temp) is False:\n",
    "        os.mkdir(path_temp)\n",
    "    for i in raw_list:\n",
    "        path_in = raw_path / (str(i) + name)\n",
    "        path_out_trainx = path_temp / (str(i) + \"xtraining\" + name)\n",
    "        path_out_trainy = path_temp / (str(i) + \"ytraining\" + name)\n",
    "        path_out_testx = path_temp / (str(i) + \"xtesting\" + name)\n",
    "        path_out_testy = path_temp / (str(i) + \"ytesting\" + name)\n",
    "        GenerateDataset(j, path_in, path_out_trainx, path_out_trainy, path_out_testx, path_out_testy)"
   ]
  },
  {
   "cell_type": "code",
   "execution_count": null,
   "id": "f127df02",
   "metadata": {
    "ExecuteTime": {
     "end_time": "2022-04-26T02:48:49.225523Z",
     "start_time": "2022-04-26T02:48:49.206575Z"
    }
   },
   "outputs": [],
   "source": [
    "a = torch.arange(0, 20).reshape((5, 4))\n",
    "a"
   ]
  },
  {
   "cell_type": "code",
   "execution_count": null,
   "id": "1cb61c30",
   "metadata": {
    "ExecuteTime": {
     "end_time": "2022-04-26T02:52:54.194935Z",
     "start_time": "2022-04-26T02:52:54.176263Z"
    }
   },
   "outputs": [],
   "source": [
    "a = a.reshape((5, 2, 2))\n",
    "a.permute(1, 0, 2)"
   ]
  },
  {
   "cell_type": "code",
   "execution_count": null,
   "id": "fd2cc925",
   "metadata": {
    "ExecuteTime": {
     "end_time": "2022-04-26T02:53:18.402820Z",
     "start_time": "2022-04-26T02:53:18.384877Z"
    }
   },
   "outputs": [],
   "source": [
    "a"
   ]
  },
  {
   "cell_type": "code",
   "execution_count": null,
   "id": "7001f362",
   "metadata": {
    "ExecuteTime": {
     "end_time": "2022-04-27T08:30:58.856497Z",
     "start_time": "2022-04-27T08:30:58.843532Z"
    }
   },
   "outputs": [],
   "source": [
    "a = np.ones((5, 5))\n",
    "a[3:]"
   ]
  },
  {
   "cell_type": "code",
   "execution_count": null,
   "id": "db2782fc",
   "metadata": {},
   "outputs": [],
   "source": []
  }
 ],
 "metadata": {
  "kernelspec": {
   "display_name": "Python 3 (ipykernel)",
   "language": "python",
   "name": "python3"
  },
  "language_info": {
   "codemirror_mode": {
    "name": "ipython",
    "version": 3
   },
   "file_extension": ".py",
   "mimetype": "text/x-python",
   "name": "python",
   "nbconvert_exporter": "python",
   "pygments_lexer": "ipython3",
   "version": "3.8.5"
  }
 },
 "nbformat": 4,
 "nbformat_minor": 5
}
